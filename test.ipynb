{
 "cells": [
  {
   "cell_type": "markdown",
   "id": "d3d2ce2b-f8cc-4b9d-94f1-17327c0c1240",
   "metadata": {},
   "source": [
    "# Title\n",
    "\n",
    "# Sub-title\n",
    "\n",
    "This is just some some text"
   ]
  },
  {
   "cell_type": "code",
   "execution_count": 1,
   "id": "9c2fae2e-86b0-4ee8-ac13-bcfabcb7c97a",
   "metadata": {},
   "outputs": [
    {
     "name": "stdout",
     "output_type": "stream",
     "text": [
      "hello world\n"
     ]
    }
   ],
   "source": [
    "print(\"hello world\")"
   ]
  },
  {
   "cell_type": "code",
   "execution_count": 2,
   "id": "550fae91-9f59-4db2-a338-ec80b399952c",
   "metadata": {},
   "outputs": [
    {
     "name": "stdout",
     "output_type": "stream",
     "text": [
      "I live in the UK\n"
     ]
    }
   ],
   "source": [
    "print(\"I live in the UK\")"
   ]
  }
 ],
 "metadata": {
  "kernelspec": {
   "display_name": "Python 3 (ipykernel)",
   "language": "python",
   "name": "python3"
  },
  "language_info": {
   "codemirror_mode": {
    "name": "ipython",
    "version": 3
   },
   "file_extension": ".py",
   "mimetype": "text/x-python",
   "name": "python",
   "nbconvert_exporter": "python",
   "pygments_lexer": "ipython3",
   "version": "3.12.4"
  }
 },
 "nbformat": 4,
 "nbformat_minor": 5
}
